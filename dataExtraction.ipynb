{
  "nbformat": 4,
  "nbformat_minor": 0,
  "metadata": {
    "colab": {
      "name": "dataExtraction.ipynb",
      "provenance": [],
      "collapsed_sections": []
    },
    "kernelspec": {
      "name": "python3",
      "display_name": "Python 3"
    },
    "language_info": {
      "name": "python"
    }
  },
  "cells": [
    {
      "cell_type": "code",
      "execution_count": null,
      "metadata": {
        "id": "sDV1ZDJadEin"
      },
      "outputs": [],
      "source": [
        "import requests\n",
        "import pandas as pd\n",
        "import time"
      ]
    },
    {
      "cell_type": "code",
      "source": [
        "API_KEY= \"\"\n",
        "\n"
      ],
      "metadata": {
        "id": "H64K0UGbdmGU"
      },
      "execution_count": null,
      "outputs": []
    },
    {
      "cell_type": "code",
      "source": [
        "pageToken=\"\"\n",
        "#Youtube URL\n",
        "url=\"\"+API_KEY+\"\"+pageToken\n",
        "response = requests.get(url).json()"
      ],
      "metadata": {
        "id": "I2snCGxQd_tf"
      },
      "execution_count": null,
      "outputs": []
    },
    {
      "cell_type": "code",
      "source": [
        "response"
      ],
      "metadata": {
        "id": "OxzBucZbeD4W"
      },
      "execution_count": null,
      "outputs": []
    },
    {
      "cell_type": "code",
      "source": [
        "df=pd.DataFrame(columns=[\"channel_id\",\"video_id\",\"video_title\",\"upload_date\",\"view_count\",\"like_count\",\"comment_count\"])\n",
        "df1=pd.DataFrame(columns=[\"video_id\",\"video_title\",\"comment\",\"comment_original\",\"description\"])"
      ],
      "metadata": {
        "id": "cUMdrB6fk3ds"
      },
      "execution_count": null,
      "outputs": []
    },
    {
      "cell_type": "code",
      "source": [
        "VIDEO_ID=\"\"\n",
        "url_comments= \"https://www.googleapis.com/youtube/v3/commentThreads?key=\"+API_KEY+\"&part=snippet&videoId=\"+VIDEO_ID\n",
        "response_comments= requests.get(url_comments).json()\n"
      ],
      "metadata": {
        "id": "z52-LiocmgmM"
      },
      "execution_count": null,
      "outputs": []
    },
    {
      "cell_type": "code",
      "source": [
        "for video in response['items']:\n",
        "  if video['id']['kind'] == \"youtube#video\":\n",
        "    video_id= video['id']['videoId']\n",
        "    channel_id=video['snippet']['channelId']\n",
        "    video_title=video['snippet']['title']\n",
        "    video_title= str(video_title).replace(\"&amp;\",\"\")\n",
        "    upload_date=video['snippet']['publishedAt']\n",
        "    upload_date= str(upload_date).split(\"T\")[0]\n",
        "    description=video['snippet']['description']\n",
        "\n",
        "    url_stats=\"\"+video_id+\"\"+API_KEY+\"\"\n",
        "    response_stats=requests.get(url_stats).json()\n",
        "    view_count =response_stats['items'][0]['statistics']['viewCount']\n",
        "   \n",
        "    try:\n",
        "      comment_count = response_stats['items'][0]['statistics']['commentCount']\n",
        "    except KeyError:\n",
        "      comment_count = response_stats.get('commentCount',0) \n",
        "    try:\n",
        "      like_count= response_stats['items'][0]['statistics']['likeCount']\n",
        "    except:\n",
        "      like_count=response_stats.get('likeCount',0)  \n",
        "\n",
        "\n",
        "\n",
        "\n",
        "\n",
        "    \n",
        "    \n",
        "      \n",
        "\n",
        "      \n",
        "    \n",
        "\n",
        "    df= df.append({'channel_id':channel_id,'video_id':video_id, 'video_title':video_title, 'upload_date':upload_date,'view_count': view_count, 'like_count': like_count,'comment_count':comment_count}, ignore_index=True)\n",
        "\n",
        "\n",
        "    \n",
        "\n",
        " "
      ],
      "metadata": {
        "id": "ryyJrguepPIA"
      },
      "execution_count": null,
      "outputs": []
    },
    {
      "cell_type": "code",
      "source": [
        "df"
      ],
      "metadata": {
        "id": "vvrghd_Eoro_"
      },
      "execution_count": null,
      "outputs": []
    },
    {
      "cell_type": "code",
      "source": [
        "df1"
      ],
      "metadata": {
        "id": "Sx65mnIcD9w9"
      },
      "execution_count": null,
      "outputs": []
    },
    {
      "cell_type": "code",
      "source": [
        " \n",
        "df.to_csv('.csv')"
      ],
      "metadata": {
        "id": "BgCOx-xWDOIS"
      },
      "execution_count": null,
      "outputs": []
    },
    {
      "cell_type": "code",
      "source": [
        "df1.to_csv('.csv')"
      ],
      "metadata": {
        "id": "LhUUDiov9CeU"
      },
      "execution_count": null,
      "outputs": []
    },
    {
      "cell_type": "code",
      "source": [
        "#Twitter Scraper"
      ],
      "metadata": {
        "id": "YA13DBwZqudJ"
      },
      "execution_count": null,
      "outputs": []
    },
    {
      "cell_type": "code",
      "source": [
        "import requests\n",
        "import pandas as pd\n",
        "import time\n",
        "import tweepy\n",
        "import configparser\n",
        "import numpy as np"
      ],
      "metadata": {
        "id": "ePVM9e-j5RPL"
      },
      "execution_count": null,
      "outputs": []
    },
    {
      "cell_type": "code",
      "source": [
        "api_key = ''\n",
        "api_key_secret = ''\n",
        "\n",
        "access_token_secret = ''\n",
        "access_token = ''"
      ],
      "metadata": {
        "id": "TkLNOLj3i9yw"
      },
      "execution_count": null,
      "outputs": []
    },
    {
      "cell_type": "code",
      "source": [
        "auth = tweepy.OAuthHandler(api_key,api_key_secret)\n",
        "auth.set_access_token(access_token,access_token_secret)\n",
        "\n",
        "\n",
        "api = tweepy.API(auth,wait_on_rate_limit=True)"
      ],
      "metadata": {
        "id": "B7Jz24gAjByN"
      },
      "execution_count": null,
      "outputs": []
    },
    {
      "cell_type": "code",
      "source": [
        "def Convert_to_query(keyword):\n",
        "    keywords = keyword.split(' ')\n",
        "    q = ' -discount -Discount -shop -has:link'\n",
        "    lst = []\n",
        "    s = keywords[0]\n",
        "\n",
        "    for i in range(1,len(keywords)):\n",
        "        s= s+' '+keywords[i]\n",
        "        lst.append(s+q)\n",
        "    return lst"
      ],
      "metadata": {
        "id": "1LeKm8cfjNul"
      },
      "execution_count": null,
      "outputs": []
    },
    {
      "cell_type": "code",
      "source": [
        "def Extract(keyword):\n",
        "    limit = 3000\n",
        "\n",
        "    query = Convert_to_query(keyword)\n",
        "    \n",
        "    tweets = tweepy.Cursor(api.search, q=query, count=100, tweet_mode = 'extended',lang='en').items(limit)\n",
        "    for tweet in tweets:\n",
        "        data.append([keyword,tweet.full_text])\n",
        "    return"
      ],
      "metadata": {
        "id": "7cJcNHigjTJz"
      },
      "execution_count": null,
      "outputs": []
    }
  ]
}